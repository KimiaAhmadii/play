{
 "cells": [
  {
   "cell_type": "code",
   "execution_count": 4,
   "metadata": {},
   "outputs": [],
   "source": [
    "import random\n",
    "play=['stone','paper','scissor']\n",
    "\n",
    "condition_play = True\n",
    "you_point = 0\n",
    "com_point = 0\n",
    "\n",
    "while(condition_play):\n",
    "\n",
    "    you = input(\"choose between(stone,paper,scissor):\")\n",
    "\n",
    "    rand= random.randint(0,2)\n",
    "\n",
    "    com= play[rand]\n",
    "\n",
    "    if you =='stone' and com =='paper':\n",
    "        you_point=you_point+1\n",
    "\n",
    "    if  com =='stone' and you =='paper':\n",
    "        com_point= com_point+1\n",
    "        \n",
    "    if you =='paper' and com =='scissor':\n",
    "        com_point=com_point+1\n",
    "\n",
    "\n",
    "    if com =='paper' and you =='scissor':\n",
    "        you_point=you_point+1\n",
    "    \n",
    "    if you == 'stone' and com == 'scissor':\n",
    "        you_point=you_point+1\n",
    "\n",
    "    if  you == 'scissor' and com == 'stone':\n",
    "        com_point= com_point+1\n",
    "\n",
    "print(\"you: \" , you_point, '   ' ,you)\n",
    "print(\"com: \" , com_point, '   ' ,com)\n",
    "\n",
    "        \n",
    "if you_point >= 3 or com_point >3 :\n",
    "    condition_play = False\n",
    "\n",
    "if you_point > com_point:\n",
    "    print(\"WIN :)\")\n",
    "else:\n",
    "    print(\"LOSS :(\")\n"
   ]
  }
 ],
 "metadata": {
  "kernelspec": {
   "display_name": ".venv",
   "language": "python",
   "name": "python3"
  },
  "language_info": {
   "codemirror_mode": {
    "name": "ipython",
    "version": 3
   },
   "file_extension": ".py",
   "mimetype": "text/x-python",
   "name": "python",
   "nbconvert_exporter": "python",
   "pygments_lexer": "ipython3",
   "version": "3.8.8"
  }
 },
 "nbformat": 4,
 "nbformat_minor": 2
}
